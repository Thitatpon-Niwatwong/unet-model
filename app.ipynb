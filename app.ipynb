{
 "cells": [
  {
   "cell_type": "code",
   "execution_count": 6,
   "metadata": {},
   "outputs": [],
   "source": [
    "import os\n",
    "import torch\n",
    "import cv2\n",
    "import matplotlib.pyplot as plt\n",
    "import numpy as np\n",
    "from torchvision import transforms\n",
    "import segmentation_models_pytorch as smp"
   ]
  },
  {
   "cell_type": "code",
   "execution_count": 7,
   "metadata": {},
   "outputs": [
    {
     "name": "stderr",
     "output_type": "stream",
     "text": [
      "C:\\Users\\thita\\AppData\\Local\\Temp\\ipykernel_20304\\3718335503.py:5: FutureWarning: You are using `torch.load` with `weights_only=False` (the current default value), which uses the default pickle module implicitly. It is possible to construct malicious pickle data which will execute arbitrary code during unpickling (See https://github.com/pytorch/pytorch/blob/main/SECURITY.md#untrusted-models for more details). In a future release, the default value for `weights_only` will be flipped to `True`. This limits the functions that could be executed during unpickling. Arbitrary objects will no longer be allowed to be loaded via this mode unless they are explicitly allowlisted by the user via `torch.serialization.add_safe_globals`. We recommend you start setting `weights_only=True` for any use case where you don't have full control of the loaded file. Please open an issue on GitHub for any issues related to this experimental feature.\n",
      "  checkpoint = torch.load(checkpoint_path, map_location=DEVICE)\n"
     ]
    },
    {
     "name": "stdout",
     "output_type": "stream",
     "text": [
      "Model loaded from ../U-Net/model/best_model_checkpoint.pth. Resuming from epoch 10 with best loss 0.0356\n"
     ]
    }
   ],
   "source": [
    "DEVICE = 'cpu'\n",
    "\n",
    "# Function to load model and optimizer from checkpoint\n",
    "def load_model_from_checkpoint(model, optimizer, checkpoint_path):\n",
    "    checkpoint = torch.load(checkpoint_path, map_location=DEVICE)\n",
    "    \n",
    "    # Load the state dict of model and optimizer\n",
    "    model.load_state_dict(checkpoint['model_state_dict'])\n",
    "    optimizer.load_state_dict(checkpoint['optimizer_state_dict'])\n",
    "    \n",
    "    start_epoch = checkpoint['epoch']\n",
    "    best_loss = checkpoint['loss']\n",
    "    \n",
    "    print(f\"Model loaded from {checkpoint_path}. Resuming from epoch {start_epoch} with best loss {best_loss:.4f}\")\n",
    "    \n",
    "    return model, optimizer, start_epoch, best_loss\n",
    "\n",
    "# Create the UNet model\n",
    "model = smp.Unet(\n",
    "    encoder_name=\"resnet50\",        # Use ResNet50 as the encoder\n",
    "    encoder_weights=\"imagenet\",     # Use pretrained weights from ImageNet\n",
    "    in_channels=1,                  # Number of input channels (e.g., 1 for grayscale)\n",
    "    classes=1                       # Number of output classes (binary mask)\n",
    ")\n",
    "\n",
    "# Create an optimizer for the model\n",
    "optimizer = torch.optim.Adam(params=model.parameters(), lr=0.0001)\n",
    "\n",
    "# Load the model from the checkpoint\n",
    "checkpoint_path = '../U-Net/model/best_model_checkpoint.pth'\n",
    "model, optimizer, start_epoch, best_loss = load_model_from_checkpoint(model, optimizer, checkpoint_path)\n",
    "\n",
    "# Move the model to the appropriate device, such as CPU or GPU\n",
    "model = model.to(DEVICE)"
   ]
  },
  {
   "cell_type": "code",
   "execution_count": 22,
   "metadata": {},
   "outputs": [],
   "source": [
    "def predict_and_visualize(image_file, model, threshold=0.5):\n",
    "\n",
    "    image = cv2.imread(image_file, cv2.IMREAD_GRAYSCALE)\n",
    "    original_image = cv2.cvtColor(image, cv2.COLOR_GRAY2RGB)  \n",
    "    image_resized = cv2.resize(image, (224, 224)) \n",
    "    \n",
    "    transform = transforms.Compose([\n",
    "        transforms.ToTensor(),  \n",
    "        transforms.Normalize(mean=[0.485], std=[0.229]), \n",
    "    ])\n",
    "    input_tensor = transform(image_resized).unsqueeze(0).to(DEVICE)  \n",
    "    \n",
    "    model.eval()  \n",
    "    with torch.no_grad(): \n",
    "        prediction = model(input_tensor)\n",
    "    \n",
    "    predicted_mask = (prediction > threshold).float().squeeze().cpu().numpy()  \n",
    "    \n",
    "    predicted_mask_resized = cv2.resize(predicted_mask, (image.shape[1], image.shape[0]))\n",
    "    \n",
    "    plt.figure(figsize=(10, 5))\n",
    "\n",
    "    plt.subplot(1, 2, 1)\n",
    "    plt.imshow(predicted_mask_resized, cmap='gray')\n",
    "    plt.title(\"Predicted Mask\")\n",
    "    plt.axis('off')\n",
    "\n",
    "    plt.subplot(1, 2, 2)\n",
    "    plt.imshow(original_image)\n",
    "    plt.imshow(predicted_mask_resized, cmap='hot', alpha=0.5)  # Overlay predicted mask\n",
    "    plt.title(\"Overlay\")\n",
    "    plt.axis('off')\n",
    "\n",
    "    plt.show()\n",
    "    \n",
    "    return predicted_mask_resized\n"
   ]
  },
  {
   "cell_type": "code",
   "execution_count": 23,
   "metadata": {},
   "outputs": [],
   "source": [
    "def predict_on_folder(input_folder, model, output_folder=None, threshold=0.5):\n",
    "    if output_folder:\n",
    "        os.makedirs(output_folder, exist_ok=True)\n",
    "\n",
    "    for img_name in os.listdir(input_folder):\n",
    "        img_path = os.path.join(input_folder, img_name)\n",
    "        \n",
    "        print(f\"Predicting for {img_name}...\")\n",
    "        predicted_mask_resized = predict_and_visualize(img_path, model, threshold)  \n",
    "        \n",
    "        if output_folder:\n",
    "            output_path = os.path.join(output_folder, f\"{img_name}_mask.png\")\n",
    "            cv2.imwrite(output_path, predicted_mask_resized * 255)  "
   ]
  },
  {
   "cell_type": "code",
   "execution_count": 25,
   "metadata": {},
   "outputs": [],
   "source": [
    "input_folder = './input_images/'\n",
    "output_folder = './output_predictions/'"
   ]
  },
  {
   "cell_type": "code",
   "execution_count": null,
   "metadata": {},
   "outputs": [],
   "source": [
    "predict_on_folder(input_folder, model, output_folder=output_folder)"
   ]
  }
 ],
 "metadata": {
  "kernelspec": {
   "display_name": "base",
   "language": "python",
   "name": "python3"
  },
  "language_info": {
   "codemirror_mode": {
    "name": "ipython",
    "version": 3
   },
   "file_extension": ".py",
   "mimetype": "text/x-python",
   "name": "python",
   "nbconvert_exporter": "python",
   "pygments_lexer": "ipython3",
   "version": "3.12.3"
  }
 },
 "nbformat": 4,
 "nbformat_minor": 2
}
